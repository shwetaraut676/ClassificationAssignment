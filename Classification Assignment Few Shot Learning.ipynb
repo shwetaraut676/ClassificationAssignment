{
 "cells": [
  {
   "cell_type": "markdown",
   "id": "bfad7765",
   "metadata": {},
   "source": [
    "## Import necessary libraries"
   ]
  },
  {
   "cell_type": "code",
   "execution_count": 1,
   "id": "ad2931ec",
   "metadata": {},
   "outputs": [],
   "source": [
    "import pandas as pd\n",
    "import numpy as np\n",
    "import matplotlib.pyplot as plt\n",
    "import seaborn as sns\n",
    "from sklearn.model_selection import train_test_split\n",
    "from transformers import AutoTokenizer, AutoModel\n",
    "from sklearn.linear_model import LogisticRegression\n",
    "from sklearn.metrics import classification_report, accuracy_score\n",
    "from sklearn.pipeline import Pipeline\n",
    "from sklearn.feature_extraction.text import TfidfVectorizer"
   ]
  },
  {
   "cell_type": "markdown",
   "id": "6f0b8c65",
   "metadata": {},
   "source": [
    "## Loading the dataset"
   ]
  },
  {
   "cell_type": "code",
   "execution_count": 3,
   "id": "80b3260f",
   "metadata": {},
   "outputs": [],
   "source": [
    "df= pd.read_excel(r\"C:\\Users\\Shweta\\Desktop\\Python\\classification_assignement_OrbitShift.xlsx\")"
   ]
  },
  {
   "cell_type": "markdown",
   "id": "e95990aa",
   "metadata": {},
   "source": [
    "## Check records per class"
   ]
  },
  {
   "cell_type": "code",
   "execution_count": 4,
   "id": "b915d73e",
   "metadata": {},
   "outputs": [
    {
     "data": {
      "text/plain": [
       "CLASS13    489\n",
       "CLASS4     373\n",
       "CLASS5     300\n",
       "CLASS6     263\n",
       "CLASS8     225\n",
       "CLASS7     168\n",
       "CLASS10    119\n",
       "CLASS3      94\n",
       "CLASS11     81\n",
       "CLASS1      76\n",
       "CLASS2      40\n",
       "CLASS9      28\n",
       "CLASS12      3\n",
       "Name: label, dtype: int64"
      ]
     },
     "execution_count": 4,
     "metadata": {},
     "output_type": "execute_result"
    }
   ],
   "source": [
    "df['label'].value_counts()"
   ]
  },
  {
   "cell_type": "code",
   "execution_count": 5,
   "id": "c85f2284",
   "metadata": {},
   "outputs": [
    {
     "data": {
      "image/png": "[encoded data removed]",
      "text/plain": [
       "<Figure size 1000x600 with 1 Axes>"
      ]
     },
     "metadata": {},
     "output_type": "display_data"
    }
   ],
   "source": [
    "plt.figure(figsize=(10, 6))\n",
    "sns.countplot(x='label', data=df, palette='viridis')\n",
    "plt.title('Number of Records in Each Class')\n",
    "plt.xlabel('Class Labels')\n",
    "plt.ylabel('Count')\n",
    "plt.show()"
   ]
  },
  {
   "cell_type": "markdown",
   "id": "7f386f01",
   "metadata": {},
   "source": [
    "We can see the imbalance in the records in the dataset over various classes. To be able to handle this imbalance when training the model, we can use Oversampling."
   ]
  },
  {
   "cell_type": "markdown",
   "id": "1fb1a9f8",
   "metadata": {},
   "source": [
    "## Cleaning the title column"
   ]
  },
  {
   "cell_type": "markdown",
   "id": "f8cae598",
   "metadata": {},
   "source": [
    "In the data, we find values like 2022, 2023, and other pattern which might reduce the quality of trainin model to predict the true class for a title. Hence,, a code to clean the title column is given below:"
   ]
  },
  {
   "cell_type": "code",
   "execution_count": 13,
   "id": "fb929b3d",
   "metadata": {},
   "outputs": [],
   "source": [
    "import re\n",
    "# Define a function to remove unwanted patterns\n",
    "def clean_title(title):\n",
    "    # Remove non-alphanumeric characters except spaces\n",
    "    cleaned_title = re.sub(r'[^a-zA-Z0-9\\s]', '', title)\n",
    "    return cleaned_title\n",
    "\n",
    "# Apply the function to the 'title' column\n",
    "df['title'] = df['title'].apply(clean_title)"
   ]
  },
  {
   "cell_type": "code",
   "execution_count": 14,
   "id": "4c94caef",
   "metadata": {},
   "outputs": [],
   "source": [
    "df['title'] = df['title'].str.replace(r'2022|2023|20222023', '', regex=True)"
   ]
  },
  {
   "cell_type": "code",
   "execution_count": 15,
   "id": "0b4cec63",
   "metadata": {},
   "outputs": [
    {
     "data": {
      "text/html": [
       "<div>\n",
       "<style scoped>\n",
       "    .dataframe tbody tr th:only-of-type {\n",
       "        vertical-align: middle;\n",
       "    }\n",
       "\n",
       "    .dataframe tbody tr th {\n",
       "        vertical-align: top;\n",
       "    }\n",
       "\n",
       "    .dataframe thead th {\n",
       "        text-align: right;\n",
       "    }\n",
       "</style>\n",
       "<table border=\"1\" class=\"dataframe\">\n",
       "  <thead>\n",
       "    <tr style=\"text-align: right;\">\n",
       "      <th></th>\n",
       "      <th>title</th>\n",
       "      <th>label</th>\n",
       "    </tr>\n",
       "  </thead>\n",
       "  <tbody>\n",
       "    <tr>\n",
       "      <th>0</th>\n",
       "      <td>Director Learning and Support</td>\n",
       "      <td>CLASS1</td>\n",
       "    </tr>\n",
       "    <tr>\n",
       "      <th>1</th>\n",
       "      <td>Customer Service Assistant</td>\n",
       "      <td>CLASS2</td>\n",
       "    </tr>\n",
       "    <tr>\n",
       "      <th>2</th>\n",
       "      <td>Internship and Education Program Management I...</td>\n",
       "      <td>CLASS13</td>\n",
       "    </tr>\n",
       "    <tr>\n",
       "      <th>3</th>\n",
       "      <td>Communications Technician</td>\n",
       "      <td>CLASS13</td>\n",
       "    </tr>\n",
       "    <tr>\n",
       "      <th>4</th>\n",
       "      <td>Emergency Preparedness Officer</td>\n",
       "      <td>CLASS3</td>\n",
       "    </tr>\n",
       "  </tbody>\n",
       "</table>\n",
       "</div>"
      ],
      "text/plain": [
       "                                               title    label\n",
       "0                      Director Learning and Support   CLASS1\n",
       "1                         Customer Service Assistant   CLASS2\n",
       "2   Internship and Education Program Management I...  CLASS13\n",
       "3                          Communications Technician  CLASS13\n",
       "4                     Emergency Preparedness Officer   CLASS3"
      ]
     },
     "execution_count": 15,
     "metadata": {},
     "output_type": "execute_result"
    }
   ],
   "source": [
    "df.head()"
   ]
  },
  {
   "cell_type": "code",
   "execution_count": 16,
   "id": "c76ee241",
   "metadata": {
    "scrolled": false
   },
   "outputs": [
    {
     "name": "stdout",
     "output_type": "stream",
     "text": [
      "<class 'pandas.core.frame.DataFrame'>\n",
      "Int64Index: 2259 entries, 0 to 2258\n",
      "Data columns (total 2 columns):\n",
      " #   Column  Non-Null Count  Dtype   \n",
      "---  ------  --------------  -----   \n",
      " 0   title   2259 non-null   object  \n",
      " 1   label   2259 non-null   category\n",
      "dtypes: category(1), object(1)\n",
      "memory usage: 38.1+ KB\n"
     ]
    }
   ],
   "source": [
    "df.info()"
   ]
  },
  {
   "cell_type": "code",
   "execution_count": 17,
   "id": "26cec04f",
   "metadata": {},
   "outputs": [],
   "source": [
    "df.drop_duplicates(keep = 'first', inplace = True)"
   ]
  },
  {
   "cell_type": "code",
   "execution_count": 18,
   "id": "b9a81352",
   "metadata": {},
   "outputs": [
    {
     "data": {
      "text/plain": [
       "(2255, 2)"
      ]
     },
     "execution_count": 18,
     "metadata": {},
     "output_type": "execute_result"
    }
   ],
   "source": [
    "df.shape"
   ]
  },
  {
   "cell_type": "markdown",
   "id": "979e4149",
   "metadata": {},
   "source": [
    "## Oversampling"
   ]
  },
  {
   "cell_type": "code",
   "execution_count": 19,
   "id": "16e4cef5",
   "metadata": {},
   "outputs": [
    {
     "data": {
      "text/plain": [
       "CLASS13    489\n",
       "CLASS4     373\n",
       "CLASS1     300\n",
       "CLASS10    300\n",
       "CLASS11    300\n",
       "CLASS12    300\n",
       "CLASS2     300\n",
       "CLASS3     300\n",
       "CLASS5     300\n",
       "CLASS6     300\n",
       "CLASS7     300\n",
       "CLASS8     300\n",
       "CLASS9     300\n",
       "Name: label, dtype: int64"
      ]
     },
     "execution_count": 19,
     "metadata": {},
     "output_type": "execute_result"
    }
   ],
   "source": [
    "df['label'] = df['label'].astype('category')\n",
    "\n",
    "target_count = 300 \n",
    "\n",
    "oversampled_df = df.copy()\n",
    "\n",
    "class_counts = df['label'].value_counts()\n",
    "\n",
    "for label, count in class_counts.items():\n",
    "    if count < target_count:\n",
    "        #print(label)\n",
    "        oversample_count = target_count - count\n",
    "        current_class_df = df[df['label'] == label]\n",
    "        #Oversampling\n",
    "        oversampled_samples = current_class_df[current_class_df['label']== label].sample(oversample_count, replace=True, random_state=42)\n",
    "        oversampled_df = pd.concat([oversampled_df, oversampled_samples], axis=0, ignore_index=True)\n",
    "    \n",
    "\n",
    "# Display balanced dataset\n",
    "oversampled_df['label'].value_counts()"
   ]
  },
  {
   "cell_type": "code",
   "execution_count": 20,
   "id": "a98520cb",
   "metadata": {},
   "outputs": [],
   "source": [
    "import torch"
   ]
  },
  {
   "cell_type": "code",
   "execution_count": 21,
   "id": "c0bdb900",
   "metadata": {},
   "outputs": [],
   "source": [
    "oversampled_df = df.copy()"
   ]
  },
  {
   "cell_type": "markdown",
   "id": "d574198f",
   "metadata": {},
   "source": [
    "## Split the dataset to train, validate and test"
   ]
  },
  {
   "cell_type": "code",
   "execution_count": 22,
   "id": "fbc0e74f",
   "metadata": {},
   "outputs": [],
   "source": [
    "X_tmp, X_test, y_tmp, y_test = train_test_split(oversampled_df['title'], oversampled_df['label'], test_size=0.2, random_state=42)\n",
    "X_train, X_val, y_train, y_val = train_test_split(X_tmp, y_tmp, test_size=0.2, random_state=42)"
   ]
  },
  {
   "cell_type": "code",
   "execution_count": 23,
   "id": "b02ec005",
   "metadata": {},
   "outputs": [],
   "source": [
    "#Tokenizer\n",
    "tokenizer = AutoTokenizer.from_pretrained('sentence-transformers/all-MiniLM-L6-v2')\n",
    "model = AutoModel.from_pretrained('sentence-transformers/all-MiniLM-L6-v2')\n",
    "\n",
    "X_train_tokens = tokenizer(X_train.tolist(), padding=True, truncation=True, return_tensors='pt')\n",
    "X_val_tokens = tokenizer(X_val.tolist(), padding=True, truncation=True, return_tensors='pt')\n",
    "X_test_tokens = tokenizer(X_test.tolist(), padding=True, truncation=True, return_tensors='pt')\n",
    "\n",
    "with torch.no_grad():\n",
    "    X_train_embeddings = model(**X_train_tokens).last_hidden_state\n",
    "    X_val_embeddings = model(**X_val_tokens).last_hidden_state\n",
    "    X_test_embeddings = model(**X_test_tokens).last_hidden_state\n",
    "\n",
    "X_train_mean = X_train_embeddings.mean(dim=1)\n",
    "X_val_mean = X_val_embeddings.mean(dim=1)\n",
    "X_test_mean = X_test_embeddings.mean(dim=1)"
   ]
  },
  {
   "cell_type": "markdown",
   "id": "412a5932",
   "metadata": {},
   "source": [
    "## Logistic Regression"
   ]
  },
  {
   "cell_type": "code",
   "execution_count": 26,
   "id": "ffebbded",
   "metadata": {},
   "outputs": [
    {
     "data": {
      "text/html": [
       "<style>#sk-container-id-2 {color: black;background-color: white;}#sk-container-id-2 pre{padding: 0;}#sk-container-id-2 div.sk-toggleable {background-color: white;}#sk-container-id-2 label.sk-toggleable__label {cursor: pointer;display: block;width: 100%;margin-bottom: 0;padding: 0.3em;box-sizing: border-box;text-align: center;}#sk-container-id-2 label.sk-toggleable__label-arrow:before {content: \"▸\";float: left;margin-right: 0.25em;color: #696969;}#sk-container-id-2 label.sk-toggleable__label-arrow:hover:before {color: black;}#sk-container-id-2 div.sk-estimator:hover label.sk-toggleable__label-arrow:before {color: black;}#sk-container-id-2 div.sk-toggleable__content {max-height: 0;max-width: 0;overflow: hidden;text-align: left;background-color: #f0f8ff;}#sk-container-id-2 div.sk-toggleable__content pre {margin: 0.2em;color: black;border-radius: 0.25em;background-color: #f0f8ff;}#sk-container-id-2 input.sk-toggleable__control:checked~div.sk-toggleable__content {max-height: 200px;max-width: 100%;overflow: auto;}#sk-container-id-2 input.sk-toggleable__control:checked~label.sk-toggleable__label-arrow:before {content: \"▾\";}#sk-container-id-2 div.sk-estimator input.sk-toggleable__control:checked~label.sk-toggleable__label {background-color: #d4ebff;}#sk-container-id-2 div.sk-label input.sk-toggleable__control:checked~label.sk-toggleable__label {background-color: #d4ebff;}#sk-container-id-2 input.sk-hidden--visually {border: 0;clip: rect(1px 1px 1px 1px);clip: rect(1px, 1px, 1px, 1px);height: 1px;margin: -1px;overflow: hidden;padding: 0;position: absolute;width: 1px;}#sk-container-id-2 div.sk-estimator {font-family: monospace;background-color: #f0f8ff;border: 1px dotted black;border-radius: 0.25em;box-sizing: border-box;margin-bottom: 0.5em;}#sk-container-id-2 div.sk-estimator:hover {background-color: #d4ebff;}#sk-container-id-2 div.sk-parallel-item::after {content: \"\";width: 100%;border-bottom: 1px solid gray;flex-grow: 1;}#sk-container-id-2 div.sk-label:hover label.sk-toggleable__label {background-color: #d4ebff;}#sk-container-id-2 div.sk-serial::before {content: \"\";position: absolute;border-left: 1px solid gray;box-sizing: border-box;top: 0;bottom: 0;left: 50%;z-index: 0;}#sk-container-id-2 div.sk-serial {display: flex;flex-direction: column;align-items: center;background-color: white;padding-right: 0.2em;padding-left: 0.2em;position: relative;}#sk-container-id-2 div.sk-item {position: relative;z-index: 1;}#sk-container-id-2 div.sk-parallel {display: flex;align-items: stretch;justify-content: center;background-color: white;position: relative;}#sk-container-id-2 div.sk-item::before, #sk-container-id-2 div.sk-parallel-item::before {content: \"\";position: absolute;border-left: 1px solid gray;box-sizing: border-box;top: 0;bottom: 0;left: 50%;z-index: -1;}#sk-container-id-2 div.sk-parallel-item {display: flex;flex-direction: column;z-index: 1;position: relative;background-color: white;}#sk-container-id-2 div.sk-parallel-item:first-child::after {align-self: flex-end;width: 50%;}#sk-container-id-2 div.sk-parallel-item:last-child::after {align-self: flex-start;width: 50%;}#sk-container-id-2 div.sk-parallel-item:only-child::after {width: 0;}#sk-container-id-2 div.sk-dashed-wrapped {border: 1px dashed gray;margin: 0 0.4em 0.5em 0.4em;box-sizing: border-box;padding-bottom: 0.4em;background-color: white;}#sk-container-id-2 div.sk-label label {font-family: monospace;font-weight: bold;display: inline-block;line-height: 1.2em;}#sk-container-id-2 div.sk-label-container {text-align: center;}#sk-container-id-2 div.sk-container {/* jupyter's `normalize.less` sets `[hidden] { display: none; }` but bootstrap.min.css set `[hidden] { display: none !important; }` so we also need the `!important` here to be able to override the default hidden behavior on the sphinx rendered scikit-learn.org. See: https://github.com/scikit-learn/scikit-learn/issues/21755 */display: inline-block !important;position: relative;}#sk-container-id-2 div.sk-text-repr-fallback {display: none;}</style><div id=\"sk-container-id-2\" class=\"sk-top-container\"><div class=\"sk-text-repr-fallback\"><pre>LogisticRegression(max_iter=1000)</pre><b>In a Jupyter environment, please rerun this cell to show the HTML representation or trust the notebook. <br />On GitHub, the HTML representation is unable to render, please try loading this page with nbviewer.org.</b></div><div class=\"sk-container\" hidden><div class=\"sk-item\"><div class=\"sk-estimator sk-toggleable\"><input class=\"sk-toggleable__control sk-hidden--visually\" id=\"sk-estimator-id-2\" type=\"checkbox\" checked><label for=\"sk-estimator-id-2\" class=\"sk-toggleable__label sk-toggleable__label-arrow\">LogisticRegression</label><div class=\"sk-toggleable__content\"><pre>LogisticRegression(max_iter=1000)</pre></div></div></div></div></div>"
      ],
      "text/plain": [
       "LogisticRegression(max_iter=1000)"
      ]
     },
     "execution_count": 26,
     "metadata": {},
     "output_type": "execute_result"
    }
   ],
   "source": [
    "#logistic regression classifier\n",
    "classifier = LogisticRegression(max_iter=1000)\n",
    "classifier.fit(X_train_mean.numpy(), y_train)"
   ]
  },
  {
   "cell_type": "code",
   "execution_count": 27,
   "id": "0527ddfb",
   "metadata": {},
   "outputs": [
    {
     "name": "stdout",
     "output_type": "stream",
     "text": [
      "Validation Accuracy: 57.06%\n"
     ]
    }
   ],
   "source": [
    "# validation accuracy\n",
    "val_predictions = classifier.predict(X_val_mean.numpy())\n",
    "\n",
    "accuracy_val = accuracy_score(y_val, val_predictions)\n",
    "print(f\"Validation Accuracy: {accuracy_val:.2%}\")"
   ]
  },
  {
   "cell_type": "code",
   "execution_count": 28,
   "id": "5242353a",
   "metadata": {},
   "outputs": [
    {
     "name": "stdout",
     "output_type": "stream",
     "text": [
      "Test Accuracy: 52.55%\n"
     ]
    }
   ],
   "source": [
    "# test accuracy\n",
    "test_predictions = classifier.predict(X_test_mean.numpy())\n",
    "\n",
    "accuracy_test = accuracy_score(y_test, test_predictions)\n",
    "print(f\"Test Accuracy: {accuracy_test:.2%}\")\n"
   ]
  },
  {
   "cell_type": "code",
   "execution_count": 30,
   "id": "a1741aee",
   "metadata": {},
   "outputs": [
    {
     "name": "stdout",
     "output_type": "stream",
     "text": [
      "Classification Report on Test Set:\n",
      "              precision    recall  f1-score   support\n",
      "\n",
      "      CLASS1       0.57      0.36      0.44        11\n",
      "     CLASS10       0.69      0.48      0.56        23\n",
      "     CLASS11       0.69      0.53      0.60        17\n",
      "     CLASS12       0.00      0.00      0.00         1\n",
      "     CLASS13       0.44      0.59      0.50        96\n",
      "      CLASS2       0.50      0.50      0.50         6\n",
      "      CLASS3       0.56      0.53      0.55        17\n",
      "      CLASS4       0.61      0.61      0.61        84\n",
      "      CLASS5       0.66      0.57      0.61        67\n",
      "      CLASS6       0.42      0.44      0.43        52\n",
      "      CLASS7       0.39      0.34      0.37        32\n",
      "      CLASS8       0.47      0.41      0.43        37\n",
      "      CLASS9       1.00      0.75      0.86         8\n",
      "\n",
      "    accuracy                           0.53       451\n",
      "   macro avg       0.54      0.47      0.50       451\n",
      "weighted avg       0.54      0.53      0.53       451\n",
      "\n"
     ]
    },
    {
     "name": "stderr",
     "output_type": "stream",
     "text": [
      "C:\\Users\\Shweta\\anaconda3\\Lib\\site-packages\\sklearn\\metrics\\_classification.py:1344: UndefinedMetricWarning: Precision and F-score are ill-defined and being set to 0.0 in labels with no predicted samples. Use `zero_division` parameter to control this behavior.\n",
      "  _warn_prf(average, modifier, msg_start, len(result))\n",
      "C:\\Users\\Shweta\\anaconda3\\Lib\\site-packages\\sklearn\\metrics\\_classification.py:1344: UndefinedMetricWarning: Precision and F-score are ill-defined and being set to 0.0 in labels with no predicted samples. Use `zero_division` parameter to control this behavior.\n",
      "  _warn_prf(average, modifier, msg_start, len(result))\n",
      "C:\\Users\\Shweta\\anaconda3\\Lib\\site-packages\\sklearn\\metrics\\_classification.py:1344: UndefinedMetricWarning: Precision and F-score are ill-defined and being set to 0.0 in labels with no predicted samples. Use `zero_division` parameter to control this behavior.\n",
      "  _warn_prf(average, modifier, msg_start, len(result))\n"
     ]
    }
   ],
   "source": [
    "import pickle\n",
    "\n",
    "print(\"Classification Report on Test Set:\")\n",
    "print(classification_report(y_test, test_predictions))\n",
    "\n",
    "with open(\"few_shot_classifier.pkl\", \"wb\") as model_file:\n",
    "    pickle.dump(classifier, model_file)"
   ]
  },
  {
   "cell_type": "code",
   "execution_count": 31,
   "id": "e2a5d4c2",
   "metadata": {},
   "outputs": [
    {
     "name": "stdout",
     "output_type": "stream",
     "text": [
      "Prediction: ['CLASS13' 'CLASS6' 'CLASS10']\n"
     ]
    }
   ],
   "source": [
    "import pickle\n",
    "\n",
    "with open('classifier.pkl', 'wb') as file:\n",
    "    pickle.dump(classifier, file)\n",
    "\n",
    "with open('classifier.pkl', 'rb') as file:\n",
    "    loaded_classifier = pickle.load(file)\n",
    "\n",
    "# Example\n",
    "example_text = (\"Internship\",\"Intraday\",\"Financial\")\n",
    "example_tokens = tokenizer(example_text, padding=True, truncation=True, return_tensors='pt')\n",
    "with torch.no_grad():\n",
    "    example_embeddings = model(**example_tokens).last_hidden_state\n",
    "    example_mean = example_embeddings.mean(dim=1)\n",
    "    prediction = loaded_classifier.predict(example_mean.numpy())\n",
    "\n",
    "print(\"Prediction:\", prediction)"
   ]
  },
  {
   "cell_type": "code",
   "execution_count": null,
   "id": "bf568aa9",
   "metadata": {},
   "outputs": [],
   "source": []
  }
 ],
 "metadata": {
  "kernelspec": {
   "display_name": "Python 3 (ipykernel)",
   "language": "python",
   "name": "python3"
  },
  "language_info": {
   "codemirror_mode": {
    "name": "ipython",
    "version": 3
   },
   "file_extension": ".py",
   "mimetype": "text/x-python",
   "name": "python",
   "nbconvert_exporter": "python",
   "pygments_lexer": "ipython3",
   "version": "3.11.4"
  }
 },
 "nbformat": 4,
 "nbformat_minor": 5
}
