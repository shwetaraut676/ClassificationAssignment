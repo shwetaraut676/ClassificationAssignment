{
 "cells": [
  {
   "cell_type": "markdown",
   "id": "8169cb41",
   "metadata": {},
   "source": [
    "## Import necessary libraries"
   ]
  },
  {
   "cell_type": "code",
   "execution_count": 1,
   "id": "7d40a914",
   "metadata": {},
   "outputs": [],
   "source": [
    "# import lib\n",
    "\n",
    "import pandas as pd\n",
    "import numpy as np\n",
    "\n",
    "import matplotlib.pyplot as plt\n",
    "import seaborn as sns\n",
    "\n",
    "from sklearn.model_selection import train_test_split\n",
    "from transformers import AutoTokenizer, AutoModel\n",
    "from sklearn.linear_model import LogisticRegression\n",
    "from sklearn.metrics import classification_report, accuracy_score\n",
    "from sklearn.pipeline import Pipeline\n",
    "from sklearn.feature_extraction.text import TfidfVectorizer"
   ]
  },
  {
   "cell_type": "markdown",
   "id": "5d6214ee",
   "metadata": {},
   "source": [
    "## Load the dataset"
   ]
  },
  {
   "cell_type": "code",
   "execution_count": 2,
   "id": "9666d0b4",
   "metadata": {},
   "outputs": [],
   "source": [
    "# import dataset\n",
    "df= pd.read_excel(r\"C:\\Users\\Shweta\\Desktop\\Python\\classification_assignement_OrbitShift.xlsx\")"
   ]
  },
  {
   "cell_type": "code",
   "execution_count": 3,
   "id": "614cdb7a",
   "metadata": {},
   "outputs": [
    {
     "data": {
      "text/html": [
       "<div>\n",
       "<style scoped>\n",
       "    .dataframe tbody tr th:only-of-type {\n",
       "        vertical-align: middle;\n",
       "    }\n",
       "\n",
       "    .dataframe tbody tr th {\n",
       "        vertical-align: top;\n",
       "    }\n",
       "\n",
       "    .dataframe thead th {\n",
       "        text-align: right;\n",
       "    }\n",
       "</style>\n",
       "<table border=\"1\" class=\"dataframe\">\n",
       "  <thead>\n",
       "    <tr style=\"text-align: right;\">\n",
       "      <th></th>\n",
       "      <th>title</th>\n",
       "      <th>label</th>\n",
       "    </tr>\n",
       "  </thead>\n",
       "  <tbody>\n",
       "    <tr>\n",
       "      <th>0</th>\n",
       "      <td>Director, Learning and Support</td>\n",
       "      <td>CLASS1</td>\n",
       "    </tr>\n",
       "    <tr>\n",
       "      <th>1</th>\n",
       "      <td>Customer Service Assistant</td>\n",
       "      <td>CLASS2</td>\n",
       "    </tr>\n",
       "    <tr>\n",
       "      <th>2</th>\n",
       "      <td>2023 Internship and Education Program Manageme...</td>\n",
       "      <td>CLASS13</td>\n",
       "    </tr>\n",
       "    <tr>\n",
       "      <th>3</th>\n",
       "      <td>Communications Technician</td>\n",
       "      <td>CLASS13</td>\n",
       "    </tr>\n",
       "    <tr>\n",
       "      <th>4</th>\n",
       "      <td>Emergency Preparedness Officer</td>\n",
       "      <td>CLASS3</td>\n",
       "    </tr>\n",
       "  </tbody>\n",
       "</table>\n",
       "</div>"
      ],
      "text/plain": [
       "                                               title    label\n",
       "0                     Director, Learning and Support   CLASS1\n",
       "1                         Customer Service Assistant   CLASS2\n",
       "2  2023 Internship and Education Program Manageme...  CLASS13\n",
       "3                          Communications Technician  CLASS13\n",
       "4                     Emergency Preparedness Officer   CLASS3"
      ]
     },
     "execution_count": 3,
     "metadata": {},
     "output_type": "execute_result"
    }
   ],
   "source": [
    "df.head()"
   ]
  },
  {
   "cell_type": "code",
   "execution_count": 4,
   "id": "1c82fbda",
   "metadata": {},
   "outputs": [
    {
     "name": "stdout",
     "output_type": "stream",
     "text": [
      "<class 'pandas.core.frame.DataFrame'>\n",
      "RangeIndex: 2259 entries, 0 to 2258\n",
      "Data columns (total 2 columns):\n",
      " #   Column  Non-Null Count  Dtype \n",
      "---  ------  --------------  ----- \n",
      " 0   title   2259 non-null   object\n",
      " 1   label   2259 non-null   object\n",
      "dtypes: object(2)\n",
      "memory usage: 35.4+ KB\n"
     ]
    }
   ],
   "source": [
    "df.info()"
   ]
  },
  {
   "cell_type": "code",
   "execution_count": 6,
   "id": "2f6b3ebe",
   "metadata": {},
   "outputs": [
    {
     "data": {
      "text/plain": [
       "(2259, 2)"
      ]
     },
     "execution_count": 6,
     "metadata": {},
     "output_type": "execute_result"
    }
   ],
   "source": [
    "df.shape"
   ]
  },
  {
   "cell_type": "markdown",
   "id": "9806d14b",
   "metadata": {},
   "source": [
    "## EDA"
   ]
  },
  {
   "cell_type": "markdown",
   "id": "b10ed9f8",
   "metadata": {},
   "source": [
    "### Cleaning the title column"
   ]
  },
  {
   "cell_type": "code",
   "execution_count": 7,
   "id": "443a70dd",
   "metadata": {},
   "outputs": [
    {
     "data": {
      "text/plain": [
       "0"
      ]
     },
     "execution_count": 7,
     "metadata": {},
     "output_type": "execute_result"
    }
   ],
   "source": [
    "df.duplicated().sum()"
   ]
  },
  {
   "cell_type": "markdown",
   "id": "0d978072",
   "metadata": {},
   "source": [
    "In the data, we find values like 2022, 2023, and other pattern which might reduce the quality of trainin model to predict the true class for a title. Hence,, a code to clean the title column is given below:"
   ]
  },
  {
   "cell_type": "code",
   "execution_count": 8,
   "id": "e6c698d5",
   "metadata": {},
   "outputs": [],
   "source": [
    "import re\n",
    "# Define a function to remove unwanted patterns\n",
    "def clean_title(title):\n",
    "    # Remove non-alphanumeric characters except spaces\n",
    "    cleaned_title = re.sub(r'[^a-zA-Z0-9\\s]', '', title)\n",
    "    return cleaned_title\n",
    "\n",
    "# Apply the function to the 'title' column\n",
    "df['title'] = df['title'].apply(clean_title)"
   ]
  },
  {
   "cell_type": "code",
   "execution_count": 9,
   "id": "9c50a56e",
   "metadata": {},
   "outputs": [],
   "source": [
    "df['title'] = df['title'].str.replace(r'2022|2023|20222023', '', regex=True)"
   ]
  },
  {
   "cell_type": "code",
   "execution_count": 10,
   "id": "a4625726",
   "metadata": {},
   "outputs": [
    {
     "data": {
      "text/html": [
       "<div>\n",
       "<style scoped>\n",
       "    .dataframe tbody tr th:only-of-type {\n",
       "        vertical-align: middle;\n",
       "    }\n",
       "\n",
       "    .dataframe tbody tr th {\n",
       "        vertical-align: top;\n",
       "    }\n",
       "\n",
       "    .dataframe thead th {\n",
       "        text-align: right;\n",
       "    }\n",
       "</style>\n",
       "<table border=\"1\" class=\"dataframe\">\n",
       "  <thead>\n",
       "    <tr style=\"text-align: right;\">\n",
       "      <th></th>\n",
       "      <th>title</th>\n",
       "      <th>label</th>\n",
       "    </tr>\n",
       "  </thead>\n",
       "  <tbody>\n",
       "    <tr>\n",
       "      <th>0</th>\n",
       "      <td>Director Learning and Support</td>\n",
       "      <td>CLASS1</td>\n",
       "    </tr>\n",
       "    <tr>\n",
       "      <th>1</th>\n",
       "      <td>Customer Service Assistant</td>\n",
       "      <td>CLASS2</td>\n",
       "    </tr>\n",
       "    <tr>\n",
       "      <th>2</th>\n",
       "      <td>Internship and Education Program Management I...</td>\n",
       "      <td>CLASS13</td>\n",
       "    </tr>\n",
       "    <tr>\n",
       "      <th>3</th>\n",
       "      <td>Communications Technician</td>\n",
       "      <td>CLASS13</td>\n",
       "    </tr>\n",
       "    <tr>\n",
       "      <th>4</th>\n",
       "      <td>Emergency Preparedness Officer</td>\n",
       "      <td>CLASS3</td>\n",
       "    </tr>\n",
       "  </tbody>\n",
       "</table>\n",
       "</div>"
      ],
      "text/plain": [
       "                                               title    label\n",
       "0                      Director Learning and Support   CLASS1\n",
       "1                         Customer Service Assistant   CLASS2\n",
       "2   Internship and Education Program Management I...  CLASS13\n",
       "3                          Communications Technician  CLASS13\n",
       "4                     Emergency Preparedness Officer   CLASS3"
      ]
     },
     "execution_count": 10,
     "metadata": {},
     "output_type": "execute_result"
    }
   ],
   "source": [
    "df.head()"
   ]
  },
  {
   "cell_type": "markdown",
   "id": "4a7895d9",
   "metadata": {},
   "source": [
    "Number of records per class"
   ]
  },
  {
   "cell_type": "code",
   "execution_count": 18,
   "id": "bc441599",
   "metadata": {},
   "outputs": [
    {
     "data": {
      "text/plain": [
       "CLASS13    489\n",
       "CLASS4     373\n",
       "CLASS5     300\n",
       "CLASS6     263\n",
       "CLASS8     225\n",
       "CLASS7     168\n",
       "CLASS10    119\n",
       "CLASS3      94\n",
       "CLASS11     81\n",
       "CLASS1      76\n",
       "CLASS2      40\n",
       "CLASS9      28\n",
       "CLASS12      3\n",
       "Name: label, dtype: int64"
      ]
     },
     "execution_count": 18,
     "metadata": {},
     "output_type": "execute_result"
    }
   ],
   "source": [
    "df['label'].value_counts()\n"
   ]
  },
  {
   "cell_type": "markdown",
   "id": "743ab54e",
   "metadata": {},
   "source": [
    "## Handling imbalance through Oversampling method"
   ]
  },
  {
   "cell_type": "code",
   "execution_count": 19,
   "id": "09c88fa0",
   "metadata": {},
   "outputs": [
    {
     "data": {
      "text/plain": [
       "CLASS13    489\n",
       "CLASS4     373\n",
       "CLASS1     300\n",
       "CLASS10    300\n",
       "CLASS11    300\n",
       "CLASS12    300\n",
       "CLASS2     300\n",
       "CLASS3     300\n",
       "CLASS5     300\n",
       "CLASS6     300\n",
       "CLASS7     300\n",
       "CLASS8     300\n",
       "CLASS9     300\n",
       "Name: label, dtype: int64"
      ]
     },
     "execution_count": 19,
     "metadata": {},
     "output_type": "execute_result"
    }
   ],
   "source": [
    "df['label'] = df['label'].astype('category')\n",
    "\n",
    "target_count = 300 \n",
    "\n",
    "oversampled_df = df.copy()\n",
    "\n",
    "class_counts = df['label'].value_counts()\n",
    "\n",
    "for label, count in class_counts.items():\n",
    "    if count < target_count:\n",
    "        #print(label)\n",
    "        oversample_count = target_count - count\n",
    "        current_class_df = df[df['label'] == label]\n",
    "        #Oversampling\n",
    "        oversampled_samples = current_class_df[current_class_df['label']== label].sample(oversample_count, replace=True, random_state=42)\n",
    "        oversampled_df = pd.concat([oversampled_df, oversampled_samples], axis=0, ignore_index=True)\n",
    "    \n",
    "\n",
    "# Display balanced dataset\n",
    "oversampled_df['label'].value_counts()\n"
   ]
  },
  {
   "cell_type": "markdown",
   "id": "0f358c6e",
   "metadata": {},
   "source": [
    "## Construct model"
   ]
  },
  {
   "cell_type": "markdown",
   "id": "e18763b6",
   "metadata": {},
   "source": [
    "Splitting the dataset into train, validation and test dataset"
   ]
  },
  {
   "cell_type": "code",
   "execution_count": 21,
   "id": "0c807c17",
   "metadata": {},
   "outputs": [],
   "source": [
    "X_tmp, X_test, y_tmp, y_test = train_test_split(oversampled_df['title'],\n",
    "                                                oversampled_df['label'],test_size=0.2, random_state=42)"
   ]
  },
  {
   "cell_type": "code",
   "execution_count": 22,
   "id": "cf00f269",
   "metadata": {},
   "outputs": [],
   "source": [
    "X_train, X_val, y_train, y_val = train_test_split(X_tmp, y_tmp, test_size=0.2, random_state=42)"
   ]
  },
  {
   "cell_type": "markdown",
   "id": "f18c52bd",
   "metadata": {},
   "source": [
    "### Train and evaluate model using huggingface transformer model"
   ]
  },
  {
   "cell_type": "code",
   "execution_count": 25,
   "id": "ebd73799",
   "metadata": {},
   "outputs": [],
   "source": [
    "import torch\n",
    "\n",
    "#tokenizer\n",
    "tokenizer = AutoTokenizer.from_pretrained('sentence-transformers/all-MiniLM-L6-v2')\n",
    "model = AutoModel.from_pretrained('sentence-transformers/all-MiniLM-L6-v2')\n",
    "\n",
    "X_train_tokens = tokenizer(X_train.tolist(), padding=True, truncation=True, return_tensors='pt')\n",
    "X_val_tokens = tokenizer(X_val.tolist(), padding=True, truncation=True, return_tensors='pt')\n",
    "X_test_tokens = tokenizer(X_test.tolist(), padding=True, truncation=True, return_tensors='pt')"
   ]
  },
  {
   "cell_type": "code",
   "execution_count": 26,
   "id": "a5511b72",
   "metadata": {},
   "outputs": [],
   "source": [
    "#embeddings\n",
    "with torch.no_grad():\n",
    "    X_train_embeddings = model(**X_train_tokens).last_hidden_state\n",
    "    X_val_embeddings = model(**X_val_tokens).last_hidden_state\n",
    "    X_test_embeddings = model(**X_test_tokens).last_hidden_state\n",
    "\n",
    "# Mean pooling\n",
    "X_train_mean = X_train_embeddings.mean(dim=1)\n",
    "X_val_mean = X_val_embeddings.mean(dim=1)\n",
    "X_test_mean = X_test_embeddings.mean(dim=1)"
   ]
  },
  {
   "cell_type": "markdown",
   "id": "a6d35cd1",
   "metadata": {},
   "source": [
    "## Logistic regression"
   ]
  },
  {
   "cell_type": "code",
   "execution_count": 27,
   "id": "f8728dad",
   "metadata": {},
   "outputs": [],
   "source": [
    "# logistic regression classifier\n",
    "classifier = LogisticRegression(max_iter=1000)\n",
    "classifier.fit(X_train_mean.numpy(), y_train)\n",
    "\n",
    "val_predictions = classifier.predict(X_val_mean.numpy())"
   ]
  },
  {
   "cell_type": "code",
   "execution_count": 28,
   "id": "045551e4",
   "metadata": {},
   "outputs": [
    {
     "name": "stdout",
     "output_type": "stream",
     "text": [
      "Validation Accuracy: 80.18%\n"
     ]
    }
   ],
   "source": [
    "# Evaluate accuracy on the validation set\n",
    "accuracy_val = accuracy_score(y_val, val_predictions)\n",
    "print(f\"Validation Accuracy: {accuracy_val:.2%}\")"
   ]
  },
  {
   "cell_type": "code",
   "execution_count": 29,
   "id": "d79c5ca9",
   "metadata": {},
   "outputs": [],
   "source": [
    "# Prediction\n",
    "test_predictions = classifier.predict(X_test_mean.numpy())"
   ]
  },
  {
   "cell_type": "code",
   "execution_count": 30,
   "id": "9ae50487",
   "metadata": {},
   "outputs": [
    {
     "name": "stdout",
     "output_type": "stream",
     "text": [
      "Test Accuracy: 78.99%\n"
     ]
    }
   ],
   "source": [
    "# Evaluate accuracy on the test set\n",
    "accuracy_test = accuracy_score(y_test, test_predictions)\n",
    "print(f\"Test Accuracy: {accuracy_test:.2%}\")"
   ]
  },
  {
   "cell_type": "markdown",
   "id": "9f13c719",
   "metadata": {},
   "source": [
    "### End result"
   ]
  },
  {
   "cell_type": "code",
   "execution_count": 32,
   "id": "fef580c6",
   "metadata": {},
   "outputs": [
    {
     "name": "stdout",
     "output_type": "stream",
     "text": [
      "Classification Report on Test Set:\n",
      "              precision    recall  f1-score   support\n",
      "\n",
      "      CLASS1       0.87      0.95      0.91        58\n",
      "     CLASS10       0.77      0.95      0.85        60\n",
      "     CLASS11       0.85      0.96      0.90        49\n",
      "     CLASS12       0.98      1.00      0.99        55\n",
      "     CLASS13       0.55      0.59      0.57        93\n",
      "      CLASS2       0.93      1.00      0.97        57\n",
      "      CLASS3       0.83      0.92      0.87        48\n",
      "      CLASS4       0.68      0.62      0.64        78\n",
      "      CLASS5       0.73      0.61      0.66        71\n",
      "      CLASS6       0.67      0.51      0.58        63\n",
      "      CLASS7       0.79      0.75      0.77        64\n",
      "      CLASS8       0.75      0.70      0.72        66\n",
      "      CLASS9       1.00      1.00      1.00        71\n",
      "\n",
      "    accuracy                           0.79       833\n",
      "   macro avg       0.80      0.81      0.80       833\n",
      "weighted avg       0.79      0.79      0.79       833\n",
      "\n"
     ]
    }
   ],
   "source": [
    "print(\"Classification Report on Test Set:\")\n",
    "print(classification_report(y_test, test_predictions))"
   ]
  },
  {
   "cell_type": "markdown",
   "id": "91d2b127",
   "metadata": {},
   "source": [
    "### Given below is an example to see if the prediction works:"
   ]
  },
  {
   "cell_type": "code",
   "execution_count": 38,
   "id": "d258f856",
   "metadata": {},
   "outputs": [],
   "source": [
    "#Pickle file to deploy it using fastapi \n",
    "\n",
    "import pickle\n",
    "pickle_out = open(\"classifier.pkl\",\"wb\")\n",
    "pickle.dump(classifier, pickle_out)\n",
    "pickle_out.close()"
   ]
  },
  {
   "cell_type": "code",
   "execution_count": 39,
   "id": "b2e3e4d5",
   "metadata": {},
   "outputs": [
    {
     "name": "stdout",
     "output_type": "stream",
     "text": [
      "Prediction: ['CLASS11' 'CLASS4']\n"
     ]
    }
   ],
   "source": [
    "import pickle\n",
    "\n",
    "with open('classifier.pkl', 'wb') as file:\n",
    "    pickle.dump(classifier, file)\n",
    "\n",
    "with open('classifier.pkl', 'rb') as file:\n",
    "    loaded_classifier = pickle.load(file)\n",
    "\n",
    "# Example\n",
    "example_text = (\"intern\",\"director\")\n",
    "example_tokens = tokenizer(example_text, padding=True, truncation=True, return_tensors='pt')\n",
    "with torch.no_grad():\n",
    "    example_embeddings = model(**example_tokens).last_hidden_state\n",
    "    example_mean = example_embeddings.mean(dim=1)\n",
    "    prediction = loaded_classifier.predict(example_mean.numpy())\n",
    "\n",
    "print(\"Prediction:\", prediction)"
   ]
  },
  {
   "cell_type": "code",
   "execution_count": null,
   "id": "2f920ad5",
   "metadata": {},
   "outputs": [],
   "source": []
  }
 ],
 "metadata": {
  "kernelspec": {
   "display_name": "Python 3 (ipykernel)",
   "language": "python",
   "name": "python3"
  },
  "language_info": {
   "codemirror_mode": {
    "name": "ipython",
    "version": 3
   },
   "file_extension": ".py",
   "mimetype": "text/x-python",
   "name": "python",
   "nbconvert_exporter": "python",
   "pygments_lexer": "ipython3",
   "version": "3.11.4"
  }
 },
 "nbformat": 4,
 "nbformat_minor": 5
}
